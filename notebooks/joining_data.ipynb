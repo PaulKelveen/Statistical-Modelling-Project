{
 "cells": [
  {
   "cell_type": "markdown",
   "metadata": {},
   "source": [
    "Join the data from Part 1 with the data from Part 2 to create a new dataframe."
   ]
  },
  {
   "cell_type": "code",
   "execution_count": 2,
   "metadata": {
    "tags": []
   },
   "outputs": [],
   "source": [
    "# imports\n",
    "import pandas as pd\n",
    "import sqlite3\n",
    "from sqlite3 import Error\n",
    "import seaborn as sns"
   ]
  },
  {
   "cell_type": "code",
   "execution_count": 3,
   "metadata": {
    "tags": []
   },
   "outputs": [],
   "source": [
    "bike_stations_df = pd.read_csv('bike_stations.csv', index_col = 0)\n",
    "yelp_business_df = pd.read_csv('yelp_business.csv', index_col = 0)"
   ]
  },
  {
   "cell_type": "code",
   "execution_count": 4,
   "metadata": {
    "tags": []
   },
   "outputs": [],
   "source": [
    "Business_and_Bike_Stations_df = pd.merge(yelp_business_df, bike_stations_df, on = 'Station Name')\n",
    "Business_and_Bike_Stations_df = Business_and_Bike_Stations_df.drop(columns=['Latitude', 'Longitude'])"
   ]
  },
  {
   "cell_type": "code",
   "execution_count": 5,
   "metadata": {
    "collapsed": true,
    "jupyter": {
     "outputs_hidden": true
    },
    "tags": []
   },
   "outputs": [
    {
     "data": {
      "text/html": [
       "<div>\n",
       "<style scoped>\n",
       "    .dataframe tbody tr th:only-of-type {\n",
       "        vertical-align: middle;\n",
       "    }\n",
       "\n",
       "    .dataframe tbody tr th {\n",
       "        vertical-align: top;\n",
       "    }\n",
       "\n",
       "    .dataframe thead th {\n",
       "        text-align: right;\n",
       "    }\n",
       "</style>\n",
       "<table border=\"1\" class=\"dataframe\">\n",
       "  <thead>\n",
       "    <tr style=\"text-align: right;\">\n",
       "      <th></th>\n",
       "      <th>Station Name</th>\n",
       "      <th>Station Latitude</th>\n",
       "      <th>Station Longitude</th>\n",
       "      <th>Business Category</th>\n",
       "      <th>Business Name</th>\n",
       "      <th>Rating</th>\n",
       "      <th>Number of Reviews</th>\n",
       "      <th>Address</th>\n",
       "      <th>Contact</th>\n",
       "      <th>Available Bikes</th>\n",
       "      <th>Empty Slots</th>\n",
       "      <th>Number of Bikes</th>\n",
       "    </tr>\n",
       "  </thead>\n",
       "  <tbody>\n",
       "    <tr>\n",
       "      <th>0</th>\n",
       "      <td>W 100 St &amp; Manhattan Ave</td>\n",
       "      <td>40.795000</td>\n",
       "      <td>-73.96450</td>\n",
       "      <td>Sardinian</td>\n",
       "      <td>Arco Cafe</td>\n",
       "      <td>4.5</td>\n",
       "      <td>352</td>\n",
       "      <td>886 Amsterdam Ave</td>\n",
       "      <td>(646) 781-9080</td>\n",
       "      <td>5</td>\n",
       "      <td>29</td>\n",
       "      <td>34</td>\n",
       "    </tr>\n",
       "    <tr>\n",
       "      <th>1</th>\n",
       "      <td>W 100 St &amp; Manhattan Ave</td>\n",
       "      <td>40.795000</td>\n",
       "      <td>-73.96450</td>\n",
       "      <td>Bars</td>\n",
       "      <td>The Calaveras</td>\n",
       "      <td>4.5</td>\n",
       "      <td>231</td>\n",
       "      <td>949 Columbus Ave</td>\n",
       "      <td>(646) 484-6533</td>\n",
       "      <td>5</td>\n",
       "      <td>29</td>\n",
       "      <td>34</td>\n",
       "    </tr>\n",
       "    <tr>\n",
       "      <th>2</th>\n",
       "      <td>W 100 St &amp; Manhattan Ave</td>\n",
       "      <td>40.795000</td>\n",
       "      <td>-73.96450</td>\n",
       "      <td>Vietnamese</td>\n",
       "      <td>Saiguette</td>\n",
       "      <td>4.5</td>\n",
       "      <td>729</td>\n",
       "      <td>935 Columbus Ave</td>\n",
       "      <td>(212) 866-6888</td>\n",
       "      <td>5</td>\n",
       "      <td>29</td>\n",
       "      <td>34</td>\n",
       "    </tr>\n",
       "    <tr>\n",
       "      <th>3</th>\n",
       "      <td>W 100 St &amp; Manhattan Ave</td>\n",
       "      <td>40.795000</td>\n",
       "      <td>-73.96450</td>\n",
       "      <td>Comfort Food</td>\n",
       "      <td>Jacob's Pickles</td>\n",
       "      <td>4.0</td>\n",
       "      <td>5403</td>\n",
       "      <td>509 Amsterdam Ave</td>\n",
       "      <td>(212) 470-5566</td>\n",
       "      <td>5</td>\n",
       "      <td>29</td>\n",
       "      <td>34</td>\n",
       "    </tr>\n",
       "    <tr>\n",
       "      <th>4</th>\n",
       "      <td>W 100 St &amp; Manhattan Ave</td>\n",
       "      <td>40.795000</td>\n",
       "      <td>-73.96450</td>\n",
       "      <td>Burgers</td>\n",
       "      <td>Bareburger - Upper West Side</td>\n",
       "      <td>3.5</td>\n",
       "      <td>393</td>\n",
       "      <td>795 Columbus Ave</td>\n",
       "      <td>(646) 559-2986</td>\n",
       "      <td>5</td>\n",
       "      <td>29</td>\n",
       "      <td>34</td>\n",
       "    </tr>\n",
       "    <tr>\n",
       "      <th>...</th>\n",
       "      <td>...</td>\n",
       "      <td>...</td>\n",
       "      <td>...</td>\n",
       "      <td>...</td>\n",
       "      <td>...</td>\n",
       "      <td>...</td>\n",
       "      <td>...</td>\n",
       "      <td>...</td>\n",
       "      <td>...</td>\n",
       "      <td>...</td>\n",
       "      <td>...</td>\n",
       "      <td>...</td>\n",
       "    </tr>\n",
       "    <tr>\n",
       "      <th>29995</th>\n",
       "      <td>Ft. Hamilton Pkwy &amp; E 5 St</td>\n",
       "      <td>40.649037</td>\n",
       "      <td>-73.97673</td>\n",
       "      <td>Coffee &amp; Tea</td>\n",
       "      <td>Der Pioneer</td>\n",
       "      <td>4.5</td>\n",
       "      <td>166</td>\n",
       "      <td>737 Church Ave</td>\n",
       "      <td>(347) 435-0132</td>\n",
       "      <td>21</td>\n",
       "      <td>0</td>\n",
       "      <td>21</td>\n",
       "    </tr>\n",
       "    <tr>\n",
       "      <th>29996</th>\n",
       "      <td>Ft. Hamilton Pkwy &amp; E 5 St</td>\n",
       "      <td>40.649037</td>\n",
       "      <td>-73.97673</td>\n",
       "      <td>Chinese</td>\n",
       "      <td>Asia Harbor</td>\n",
       "      <td>4.0</td>\n",
       "      <td>148</td>\n",
       "      <td>402 Church Ave</td>\n",
       "      <td>(718) 871-0635</td>\n",
       "      <td>21</td>\n",
       "      <td>0</td>\n",
       "      <td>21</td>\n",
       "    </tr>\n",
       "    <tr>\n",
       "      <th>29997</th>\n",
       "      <td>Ft. Hamilton Pkwy &amp; E 5 St</td>\n",
       "      <td>40.649037</td>\n",
       "      <td>-73.97673</td>\n",
       "      <td>Thai</td>\n",
       "      <td>Uni Thai Bistro</td>\n",
       "      <td>4.5</td>\n",
       "      <td>40</td>\n",
       "      <td>265 E 7th St</td>\n",
       "      <td>(929) 419-5642</td>\n",
       "      <td>21</td>\n",
       "      <td>0</td>\n",
       "      <td>21</td>\n",
       "    </tr>\n",
       "    <tr>\n",
       "      <th>29998</th>\n",
       "      <td>Ft. Hamilton Pkwy &amp; E 5 St</td>\n",
       "      <td>40.649037</td>\n",
       "      <td>-73.97673</td>\n",
       "      <td>Korean</td>\n",
       "      <td>Jiku Wicked Wings &amp; Korean Grub</td>\n",
       "      <td>4.0</td>\n",
       "      <td>134</td>\n",
       "      <td>1219 Church Ave</td>\n",
       "      <td>(718) 975-2259</td>\n",
       "      <td>21</td>\n",
       "      <td>0</td>\n",
       "      <td>21</td>\n",
       "    </tr>\n",
       "    <tr>\n",
       "      <th>29999</th>\n",
       "      <td>Ft. Hamilton Pkwy &amp; E 5 St</td>\n",
       "      <td>40.649037</td>\n",
       "      <td>-73.97673</td>\n",
       "      <td>Pizza</td>\n",
       "      <td>Uncle Frankie’s Brick Oven Pizza</td>\n",
       "      <td>4.5</td>\n",
       "      <td>58</td>\n",
       "      <td>3007 Fort Hamilton Pkwy</td>\n",
       "      <td>(718) 854-3462</td>\n",
       "      <td>21</td>\n",
       "      <td>0</td>\n",
       "      <td>21</td>\n",
       "    </tr>\n",
       "  </tbody>\n",
       "</table>\n",
       "<p>30000 rows × 12 columns</p>\n",
       "</div>"
      ],
      "text/plain": [
       "                     Station Name  Station Latitude  Station Longitude  \\\n",
       "0        W 100 St & Manhattan Ave         40.795000          -73.96450   \n",
       "1        W 100 St & Manhattan Ave         40.795000          -73.96450   \n",
       "2        W 100 St & Manhattan Ave         40.795000          -73.96450   \n",
       "3        W 100 St & Manhattan Ave         40.795000          -73.96450   \n",
       "4        W 100 St & Manhattan Ave         40.795000          -73.96450   \n",
       "...                           ...               ...                ...   \n",
       "29995  Ft. Hamilton Pkwy & E 5 St         40.649037          -73.97673   \n",
       "29996  Ft. Hamilton Pkwy & E 5 St         40.649037          -73.97673   \n",
       "29997  Ft. Hamilton Pkwy & E 5 St         40.649037          -73.97673   \n",
       "29998  Ft. Hamilton Pkwy & E 5 St         40.649037          -73.97673   \n",
       "29999  Ft. Hamilton Pkwy & E 5 St         40.649037          -73.97673   \n",
       "\n",
       "      Business Category                     Business Name  Rating  \\\n",
       "0             Sardinian                         Arco Cafe     4.5   \n",
       "1                  Bars                     The Calaveras     4.5   \n",
       "2            Vietnamese                         Saiguette     4.5   \n",
       "3          Comfort Food                   Jacob's Pickles     4.0   \n",
       "4               Burgers      Bareburger - Upper West Side     3.5   \n",
       "...                 ...                               ...     ...   \n",
       "29995      Coffee & Tea                       Der Pioneer     4.5   \n",
       "29996           Chinese                       Asia Harbor     4.0   \n",
       "29997              Thai                   Uni Thai Bistro     4.5   \n",
       "29998            Korean   Jiku Wicked Wings & Korean Grub     4.0   \n",
       "29999             Pizza  Uncle Frankie’s Brick Oven Pizza     4.5   \n",
       "\n",
       "       Number of Reviews                  Address         Contact  \\\n",
       "0                    352        886 Amsterdam Ave  (646) 781-9080   \n",
       "1                    231         949 Columbus Ave  (646) 484-6533   \n",
       "2                    729         935 Columbus Ave  (212) 866-6888   \n",
       "3                   5403        509 Amsterdam Ave  (212) 470-5566   \n",
       "4                    393         795 Columbus Ave  (646) 559-2986   \n",
       "...                  ...                      ...             ...   \n",
       "29995                166           737 Church Ave  (347) 435-0132   \n",
       "29996                148           402 Church Ave  (718) 871-0635   \n",
       "29997                 40             265 E 7th St  (929) 419-5642   \n",
       "29998                134          1219 Church Ave  (718) 975-2259   \n",
       "29999                 58  3007 Fort Hamilton Pkwy  (718) 854-3462   \n",
       "\n",
       "       Available Bikes  Empty Slots  Number of Bikes  \n",
       "0                    5           29               34  \n",
       "1                    5           29               34  \n",
       "2                    5           29               34  \n",
       "3                    5           29               34  \n",
       "4                    5           29               34  \n",
       "...                ...          ...              ...  \n",
       "29995               21            0               21  \n",
       "29996               21            0               21  \n",
       "29997               21            0               21  \n",
       "29998               21            0               21  \n",
       "29999               21            0               21  \n",
       "\n",
       "[30000 rows x 12 columns]"
      ]
     },
     "execution_count": 5,
     "metadata": {},
     "output_type": "execute_result"
    }
   ],
   "source": [
    "Business_and_Bike_Stations_df['Number of Bikes'] = Business_and_Bike_Stations_df['Available Bikes'] + Business_and_Bike_Stations_df['Empty Slots']\n",
    "Business_and_Bike_Stations_df"
   ]
  },
  {
   "cell_type": "code",
   "execution_count": 45,
   "metadata": {
    "tags": []
   },
   "outputs": [],
   "source": [
    "Business_and_Bike_Stations_df.to_csv('Business_and_Bike_Stations.csv')"
   ]
  },
  {
   "cell_type": "code",
   "execution_count": 6,
   "metadata": {
    "collapsed": true,
    "jupyter": {
     "outputs_hidden": true
    },
    "tags": []
   },
   "outputs": [
    {
     "name": "stdout",
     "output_type": "stream",
     "text": [
      "                     Station Name  Average Rating  Average Reviews  \\\n",
      "0                1 Ave & E 110 St           4.375           345.00   \n",
      "1                 1 Ave & E 16 St           4.375          1545.35   \n",
      "2                 1 Ave & E 18 St           4.400          1483.45   \n",
      "3                 1 Ave & E 30 St           4.350          1066.85   \n",
      "4                 1 Ave & E 62 St           4.300           713.90   \n",
      "..                            ...             ...              ...   \n",
      "995        Wolcott St & Dwight St           4.200           557.20   \n",
      "996      Woodward Ave & Harman St           4.350           258.35   \n",
      "997     Wyckoff Av & Jefferson St           4.300           311.30   \n",
      "998      Wyckoff Av & Stanhope St           4.275           307.90   \n",
      "999  Wythe Ave & Metropolitan Ave           4.175           827.80   \n",
      "\n",
      "     Number of Bikes  \n",
      "0                 24  \n",
      "1                 51  \n",
      "2                 49  \n",
      "3                 35  \n",
      "4                 31  \n",
      "..               ...  \n",
      "995               20  \n",
      "996               16  \n",
      "997               25  \n",
      "998               21  \n",
      "999               47  \n",
      "\n",
      "[1000 rows x 4 columns]\n"
     ]
    }
   ],
   "source": [
    "grouped_business = Business_and_Bike_Stations_df.groupby('Station Name').agg({\n",
    "    'Rating': 'mean',\n",
    "    'Number of Reviews': 'mean',\n",
    "    'Number of Bikes': 'max'\n",
    "}).reset_index()\n",
    "\n",
    "grouped_business = grouped_business.rename(columns={\n",
    "    'Rating': 'Average Rating',\n",
    "    'Number of Reviews': 'Average Reviews',\n",
    "})\n",
    "grouped_business_df = pd.DataFrame(grouped_business)\n",
    "print(grouped_business_df)"
   ]
  },
  {
   "cell_type": "code",
   "execution_count": 49,
   "metadata": {
    "tags": []
   },
   "outputs": [],
   "source": [
    "grouped_business_df.to_csv('grouped_business.csv')"
   ]
  },
  {
   "cell_type": "markdown",
   "metadata": {},
   "source": [
    "Provide a visualization that you used as part of your EDA process. Explain the initial pattern or relationship you discoved through this visualization. "
   ]
  },
  {
   "cell_type": "code",
   "execution_count": 7,
   "metadata": {
    "tags": []
   },
   "outputs": [
    {
     "data": {
      "text/plain": [
       "(30000, 12)"
      ]
     },
     "execution_count": 7,
     "metadata": {},
     "output_type": "execute_result"
    }
   ],
   "source": [
    "Business_and_Bike_Stations_df.shape"
   ]
  },
  {
   "cell_type": "code",
   "execution_count": 8,
   "metadata": {
    "tags": []
   },
   "outputs": [
    {
     "data": {
      "text/plain": [
       "count                        30000\n",
       "unique                        1000\n",
       "top       India St & Manhattan Ave\n",
       "freq                            60\n",
       "Name: Station Name, dtype: object"
      ]
     },
     "execution_count": 8,
     "metadata": {},
     "output_type": "execute_result"
    }
   ],
   "source": [
    "Business_and_Bike_Stations_df['Station Name'].describe()"
   ]
  },
  {
   "cell_type": "code",
   "execution_count": 9,
   "metadata": {
    "tags": []
   },
   "outputs": [
    {
     "data": {
      "text/plain": [
       "count    30000.000000\n",
       "mean         4.178150\n",
       "std          0.447524\n",
       "min          1.000000\n",
       "25%          4.000000\n",
       "50%          4.000000\n",
       "75%          4.500000\n",
       "max          5.000000\n",
       "Name: Rating, dtype: float64"
      ]
     },
     "execution_count": 9,
     "metadata": {},
     "output_type": "execute_result"
    }
   ],
   "source": [
    "Business_and_Bike_Stations_df['Rating'].describe()"
   ]
  },
  {
   "cell_type": "code",
   "execution_count": 10,
   "metadata": {
    "tags": []
   },
   "outputs": [
    {
     "data": {
      "text/plain": [
       "count    30000.000000\n",
       "mean        28.228000\n",
       "std         15.393546\n",
       "min          0.000000\n",
       "25%         19.000000\n",
       "50%         23.000000\n",
       "75%         31.000000\n",
       "max        112.000000\n",
       "Name: Number of Bikes, dtype: float64"
      ]
     },
     "execution_count": 10,
     "metadata": {},
     "output_type": "execute_result"
    }
   ],
   "source": [
    "Business_and_Bike_Stations_df['Number of Bikes'].describe()"
   ]
  },
  {
   "cell_type": "code",
   "execution_count": 11,
   "metadata": {
    "collapsed": true,
    "jupyter": {
     "outputs_hidden": true
    },
    "tags": []
   },
   "outputs": [
    {
     "data": {
      "text/plain": [
       "<Axes: xlabel='Number of Bikes', ylabel='Count'>"
      ]
     },
     "execution_count": 11,
     "metadata": {},
     "output_type": "execute_result"
    },
    {
     "data": {
      "image/png": "[encoded data removed]",
      "text/plain": [
       "<Figure size 640x480 with 1 Axes>"
      ]
     },
     "metadata": {},
     "output_type": "display_data"
    }
   ],
   "source": [
    "sns.histplot(Business_and_Bike_Stations_df['Number of Bikes'])"
   ]
  },
  {
   "cell_type": "code",
   "execution_count": 37,
   "metadata": {
    "collapsed": true,
    "jupyter": {
     "outputs_hidden": true
    },
    "tags": []
   },
   "outputs": [
    {
     "data": {
      "text/plain": [
       "<Axes: xlabel='Rating', ylabel='Count'>"
      ]
     },
     "execution_count": 37,
     "metadata": {},
     "output_type": "execute_result"
    },
    {
     "data": {
      "image/png": "[encoded data removed]",
      "text/plain": [
       "<Figure size 640x480 with 1 Axes>"
      ]
     },
     "metadata": {},
     "output_type": "display_data"
    }
   ],
   "source": [
    "sns.histplot(Business_and_Bike_Stations_df['Rating'])"
   ]
  },
  {
   "cell_type": "markdown",
   "metadata": {
    "tags": []
   },
   "source": [
    "# Database"
   ]
  },
  {
   "cell_type": "markdown",
   "metadata": {},
   "source": [
    "Put all your results in an SQLite3 database (remember, SQLite stores its databases as files in your local machine - make sure to create your database in your project's data/ directory!)"
   ]
  },
  {
   "cell_type": "code",
   "execution_count": 23,
   "metadata": {
    "tags": []
   },
   "outputs": [],
   "source": [
    "def create_connection(path):\n",
    "    connection = None\n",
    "    try:\n",
    "        connection = sqlite3.connect(path)\n",
    "        print(\"Connection to SQLite DB successful\")\n",
    "    except Error as e:\n",
    "        print(f\"The error '{e}' occurred\")\n",
    "\n",
    "    return connection"
   ]
  },
  {
   "cell_type": "code",
   "execution_count": 25,
   "metadata": {
    "tags": []
   },
   "outputs": [
    {
     "name": "stdout",
     "output_type": "stream",
     "text": [
      "Connection to SQLite DB successful\n"
     ]
    }
   ],
   "source": [
    "connection = create_connection(\"Business_and_Bike_Stations.sqlite\")\n",
    "connect = sqlite3.connect('Business_and_Bike_Stations.sqlite')"
   ]
  },
  {
   "cell_type": "code",
   "execution_count": 26,
   "metadata": {
    "tags": []
   },
   "outputs": [
    {
     "data": {
      "text/plain": [
       "30000"
      ]
     },
     "execution_count": 26,
     "metadata": {},
     "output_type": "execute_result"
    }
   ],
   "source": [
    "table_name = 'Business_and_Bike_Stations'\n",
    "Business_and_Bike_Stations_df.to_sql(table_name, connect, if_exists='replace', index=False)"
   ]
  },
  {
   "cell_type": "code",
   "execution_count": 31,
   "metadata": {
    "tags": []
   },
   "outputs": [],
   "source": [
    "connect.commit()\n",
    "connect.close()"
   ]
  },
  {
   "cell_type": "markdown",
   "metadata": {},
   "source": [
    "Look at the data before and after the join to validate your data."
   ]
  },
  {
   "cell_type": "code",
   "execution_count": 18,
   "metadata": {
    "tags": []
   },
   "outputs": [
    {
     "name": "stdout",
     "output_type": "stream",
     "text": [
      "1979\n",
      "1979\n",
      "5\n",
      "1979\n"
     ]
    }
   ],
   "source": [
    "print(len(bike_stations_df.index))\n",
    "print(bike_stations_df.shape[0])\n",
    "print(bike_stations_df.shape[1])\n",
    "print(bike_stations_df[bike_stations_df.columns[0]].count())"
   ]
  },
  {
   "cell_type": "code",
   "execution_count": 21,
   "metadata": {
    "tags": []
   },
   "outputs": [
    {
     "name": "stdout",
     "output_type": "stream",
     "text": [
      "30000\n",
      "30000\n",
      "9\n",
      "30000\n"
     ]
    }
   ],
   "source": [
    "print(len(yelp_business_df.index))\n",
    "print(yelp_business_df.shape[0])\n",
    "print(yelp_business_df.shape[1])\n",
    "print(yelp_business_df[yelp_business_df.columns[0]].count())"
   ]
  },
  {
   "cell_type": "code",
   "execution_count": 20,
   "metadata": {
    "tags": []
   },
   "outputs": [
    {
     "name": "stdout",
     "output_type": "stream",
     "text": [
      "30000\n",
      "30000\n",
      "11\n",
      "30000\n"
     ]
    }
   ],
   "source": [
    "print(len(Business_and_Bike_Stations_df.index))\n",
    "print(Business_and_Bike_Stations_df.shape[0])\n",
    "print(Business_and_Bike_Stations_df.shape[1])\n",
    "print(Business_and_Bike_Stations_df[Business_and_Bike_Stations_df.columns[0]].count())"
   ]
  }
 ],
 "metadata": {
  "kernelspec": {
   "display_name": "Python 3 (ipykernel)",
   "language": "python",
   "name": "python3"
  },
  "language_info": {
   "codemirror_mode": {
    "name": "ipython",
    "version": 3
   },
   "file_extension": ".py",
   "mimetype": "text/x-python",
   "name": "python",
   "nbconvert_exporter": "python",
   "pygments_lexer": "ipython3",
   "version": "3.11.3"
  }
 },
 "nbformat": 4,
 "nbformat_minor": 4
}
