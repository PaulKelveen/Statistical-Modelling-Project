{
 "cells": [
  {
   "cell_type": "markdown",
   "metadata": {},
   "source": [
    "Build a regression model."
   ]
  },
  {
   "cell_type": "code",
   "execution_count": 5,
   "metadata": {
    "tags": []
   },
   "outputs": [],
   "source": [
    "# imports\n",
    "import pandas as pd\n",
    "import statsmodels.api as sm\n",
    "\n",
    "grouped_business_df = pd.read_csv('grouped_business.csv', index_col = 0)"
   ]
  },
  {
   "cell_type": "code",
   "execution_count": 4,
   "metadata": {
    "collapsed": true,
    "jupyter": {
     "outputs_hidden": true
    },
    "tags": []
   },
   "outputs": [
    {
     "data": {
      "text/html": [
       "<div>\n",
       "<style scoped>\n",
       "    .dataframe tbody tr th:only-of-type {\n",
       "        vertical-align: middle;\n",
       "    }\n",
       "\n",
       "    .dataframe tbody tr th {\n",
       "        vertical-align: top;\n",
       "    }\n",
       "\n",
       "    .dataframe thead th {\n",
       "        text-align: right;\n",
       "    }\n",
       "</style>\n",
       "<table border=\"1\" class=\"dataframe\">\n",
       "  <thead>\n",
       "    <tr style=\"text-align: right;\">\n",
       "      <th></th>\n",
       "      <th>Station Name</th>\n",
       "      <th>Average Rating</th>\n",
       "      <th>Average Reviews</th>\n",
       "      <th>Number of Bikes</th>\n",
       "    </tr>\n",
       "  </thead>\n",
       "  <tbody>\n",
       "    <tr>\n",
       "      <th>0</th>\n",
       "      <td>1 Ave &amp; E 110 St</td>\n",
       "      <td>4.375</td>\n",
       "      <td>345.00</td>\n",
       "      <td>24</td>\n",
       "    </tr>\n",
       "    <tr>\n",
       "      <th>1</th>\n",
       "      <td>1 Ave &amp; E 16 St</td>\n",
       "      <td>4.375</td>\n",
       "      <td>1545.35</td>\n",
       "      <td>51</td>\n",
       "    </tr>\n",
       "    <tr>\n",
       "      <th>2</th>\n",
       "      <td>1 Ave &amp; E 18 St</td>\n",
       "      <td>4.400</td>\n",
       "      <td>1483.45</td>\n",
       "      <td>49</td>\n",
       "    </tr>\n",
       "    <tr>\n",
       "      <th>3</th>\n",
       "      <td>1 Ave &amp; E 30 St</td>\n",
       "      <td>4.350</td>\n",
       "      <td>1066.85</td>\n",
       "      <td>35</td>\n",
       "    </tr>\n",
       "    <tr>\n",
       "      <th>4</th>\n",
       "      <td>1 Ave &amp; E 62 St</td>\n",
       "      <td>4.300</td>\n",
       "      <td>713.90</td>\n",
       "      <td>31</td>\n",
       "    </tr>\n",
       "    <tr>\n",
       "      <th>...</th>\n",
       "      <td>...</td>\n",
       "      <td>...</td>\n",
       "      <td>...</td>\n",
       "      <td>...</td>\n",
       "    </tr>\n",
       "    <tr>\n",
       "      <th>995</th>\n",
       "      <td>Wolcott St &amp; Dwight St</td>\n",
       "      <td>4.200</td>\n",
       "      <td>557.20</td>\n",
       "      <td>20</td>\n",
       "    </tr>\n",
       "    <tr>\n",
       "      <th>996</th>\n",
       "      <td>Woodward Ave &amp; Harman St</td>\n",
       "      <td>4.350</td>\n",
       "      <td>258.35</td>\n",
       "      <td>16</td>\n",
       "    </tr>\n",
       "    <tr>\n",
       "      <th>997</th>\n",
       "      <td>Wyckoff Av &amp; Jefferson St</td>\n",
       "      <td>4.300</td>\n",
       "      <td>311.30</td>\n",
       "      <td>25</td>\n",
       "    </tr>\n",
       "    <tr>\n",
       "      <th>998</th>\n",
       "      <td>Wyckoff Av &amp; Stanhope St</td>\n",
       "      <td>4.275</td>\n",
       "      <td>307.90</td>\n",
       "      <td>21</td>\n",
       "    </tr>\n",
       "    <tr>\n",
       "      <th>999</th>\n",
       "      <td>Wythe Ave &amp; Metropolitan Ave</td>\n",
       "      <td>4.175</td>\n",
       "      <td>827.80</td>\n",
       "      <td>47</td>\n",
       "    </tr>\n",
       "  </tbody>\n",
       "</table>\n",
       "<p>1000 rows × 4 columns</p>\n",
       "</div>"
      ],
      "text/plain": [
       "                     Station Name  Average Rating  Average Reviews  \\\n",
       "0                1 Ave & E 110 St           4.375           345.00   \n",
       "1                 1 Ave & E 16 St           4.375          1545.35   \n",
       "2                 1 Ave & E 18 St           4.400          1483.45   \n",
       "3                 1 Ave & E 30 St           4.350          1066.85   \n",
       "4                 1 Ave & E 62 St           4.300           713.90   \n",
       "..                            ...             ...              ...   \n",
       "995        Wolcott St & Dwight St           4.200           557.20   \n",
       "996      Woodward Ave & Harman St           4.350           258.35   \n",
       "997     Wyckoff Av & Jefferson St           4.300           311.30   \n",
       "998      Wyckoff Av & Stanhope St           4.275           307.90   \n",
       "999  Wythe Ave & Metropolitan Ave           4.175           827.80   \n",
       "\n",
       "     Number of Bikes  \n",
       "0                 24  \n",
       "1                 51  \n",
       "2                 49  \n",
       "3                 35  \n",
       "4                 31  \n",
       "..               ...  \n",
       "995               20  \n",
       "996               16  \n",
       "997               25  \n",
       "998               21  \n",
       "999               47  \n",
       "\n",
       "[1000 rows x 4 columns]"
      ]
     },
     "execution_count": 4,
     "metadata": {},
     "output_type": "execute_result"
    }
   ],
   "source": [
    "grouped_business_df"
   ]
  },
  {
   "cell_type": "code",
   "execution_count": 9,
   "metadata": {
    "tags": []
   },
   "outputs": [],
   "source": [
    "X = grouped_business_df['Number of Bikes']\n",
    "Y = grouped_business_df['Average Rating']"
   ]
  },
  {
   "cell_type": "code",
   "execution_count": 12,
   "metadata": {
    "tags": []
   },
   "outputs": [],
   "source": [
    "X = sm.add_constant(X)\n",
    "lin_model = sm.OLS(y, X).fit()"
   ]
  },
  {
   "cell_type": "code",
   "execution_count": 15,
   "metadata": {
    "tags": []
   },
   "outputs": [],
   "source": [
    "model = lin_model.summary()"
   ]
  },
  {
   "cell_type": "markdown",
   "metadata": {},
   "source": [
    "Provide model output and an interpretation of the results. "
   ]
  },
  {
   "cell_type": "code",
   "execution_count": 17,
   "metadata": {
    "tags": []
   },
   "outputs": [
    {
     "name": "stdout",
     "output_type": "stream",
     "text": [
      "                            OLS Regression Results                            \n",
      "==============================================================================\n",
      "Dep. Variable:         Average Rating   R-squared:                       0.032\n",
      "Model:                            OLS   Adj. R-squared:                  0.031\n",
      "Method:                 Least Squares   F-statistic:                     32.90\n",
      "Date:                Wed, 30 Aug 2023   Prob (F-statistic):           1.29e-08\n",
      "Time:                        13:37:52   Log-Likelihood:                 287.50\n",
      "No. Observations:                1000   AIC:                            -571.0\n",
      "Df Residuals:                     998   BIC:                            -561.2\n",
      "Df Model:                           1                                         \n",
      "Covariance Type:            nonrobust                                         \n",
      "===================================================================================\n",
      "                      coef    std err          t      P>|t|      [0.025      0.975]\n",
      "-----------------------------------------------------------------------------------\n",
      "const               4.1246      0.012    355.004      0.000       4.102       4.147\n",
      "Number of Bikes     0.0019      0.000      5.736      0.000       0.001       0.003\n",
      "==============================================================================\n",
      "Omnibus:                      349.681   Durbin-Watson:                   1.201\n",
      "Prob(Omnibus):                  0.000   Jarque-Bera (JB):             1333.745\n",
      "Skew:                          -1.648   Prob(JB):                    2.40e-290\n",
      "Kurtosis:                       7.598   Cond. No.                         69.3\n",
      "==============================================================================\n",
      "\n",
      "Notes:\n",
      "[1] Standard Errors assume that the covariance matrix of the errors is correctly specified.\n"
     ]
    }
   ],
   "source": [
    "print(model)"
   ]
  },
  {
   "cell_type": "markdown",
   "metadata": {},
   "source": [
    "Interpretation of Results:\n",
    "\n",
    "R-squared: From the model above, an R-squared value of 0.032 indicates that about 3.2% of the variability in the dependent variable (Average Rating) is explained by the variability in the independent variable (Number of Bikes). Thus, this model does not explain a significant amount og variation in the dependent variable.\n",
    "\n",
    "P-value: In this model output, the P-values for both the const coefficient and the Number of Bikes coefficient are very small (close to zero). This indicates that they are both statistically significant predictors of the dependent variable, Average Rating.\n",
    "\n",
    "Coefficient: For this linear regression model, the coefficient for Number of Bikes is approximately 0.0019, suggestitng that on average, a one unit increase in the Number of Bikes correlates with an increase of 0.0019 in the Average Rating.\n",
    "\n",
    "Conclusion: While we can establish a statistically significant relationship between the independent and dependent variables, it is also worthy to note that the relationship between them is quite weak as evidenced by the low R-squared value."
   ]
  },
  {
   "cell_type": "markdown",
   "metadata": {},
   "source": [
    "# Stretch"
   ]
  },
  {
   "cell_type": "markdown",
   "metadata": {},
   "source": [
    "How can you turn the regression model into a classification model?"
   ]
  },
  {
   "cell_type": "markdown",
   "metadata": {},
   "source": [
    "To convert the regression model into a classification model, I will first define which attritube I am trying to predict. Next, I'll work on grouping mu continuous variables into discrete labels to help create the class. Then I'll select an appropriate classification algorithm and afterwards, evaluate my model."
   ]
  }
 ],
 "metadata": {
  "kernelspec": {
   "display_name": "Python 3 (ipykernel)",
   "language": "python",
   "name": "python3"
  },
  "language_info": {
   "codemirror_mode": {
    "name": "ipython",
    "version": 3
   },
   "file_extension": ".py",
   "mimetype": "text/x-python",
   "name": "python",
   "nbconvert_exporter": "python",
   "pygments_lexer": "ipython3",
   "version": "3.11.3"
  }
 },
 "nbformat": 4,
 "nbformat_minor": 4
}
